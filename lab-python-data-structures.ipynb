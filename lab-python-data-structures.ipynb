{
 "cells": [
  {
   "cell_type": "code",
   "execution_count": null,
   "id": "a51058dc-f1c9-4b22-8a80-2e8e811b115a",
   "metadata": {},
   "outputs": [],
   "source": [
    "#Exercise: Managing Customer Orders\n",
    "#As part of a business venture, you are starting an online store that sells various products. \n",
    "#To ensure smooth operations, you need to develop a program that manages customer orders and inventory.\n",
    "\n",
    "#Follow the steps below to complete the exercise:"
   ]
  },
  {
   "cell_type": "code",
   "execution_count": 46,
   "id": "e7305029-96f0-482d-b09c-a65e60575236",
   "metadata": {},
   "outputs": [
    {
     "name": "stdout",
     "output_type": "stream",
     "text": [
      "['t-shirt', 'mug', 'hat', 'book', 'keychain']\n"
     ]
    },
    {
     "data": {
      "text/plain": [
       "list"
      ]
     },
     "execution_count": 46,
     "metadata": {},
     "output_type": "execute_result"
    }
   ],
   "source": [
    "#1. Define a list called products that contains the following items: \"t-shirt\", \"mug\", \"hat\", \"book\", \"keychain\".\n",
    "products = [\"t-shirt\", \"mug\", \"hat\", \"book\", \"keychain\"]\n",
    "print(products)\n",
    "type(products)"
   ]
  },
  {
   "cell_type": "code",
   "execution_count": 48,
   "id": "a9cd63fe-79e2-4aa3-9967-c227947356d8",
   "metadata": {},
   "outputs": [
    {
     "name": "stdout",
     "output_type": "stream",
     "text": [
      "{}\n"
     ]
    },
    {
     "data": {
      "text/plain": [
       "dict"
      ]
     },
     "execution_count": 48,
     "metadata": {},
     "output_type": "execute_result"
    }
   ],
   "source": [
    "#2.Create an empty dictionary called inventory.\n",
    "inventory={}\n",
    "print(inventory)\n",
    "type(inventory)"
   ]
  },
  {
   "cell_type": "code",
   "execution_count": 70,
   "id": "0987c0a6-a9f9-4750-8d53-d52c0a9ac305",
   "metadata": {},
   "outputs": [
    {
     "name": "stdin",
     "output_type": "stream",
     "text": [
      "Input the quantity for t-shirt 15\n",
      "Input the quantity for mug 20\n",
      "Input the quantity for hat 15\n",
      "Input the quantity for book 50\n",
      "Input the quantity for keychain 62\n"
     ]
    },
    {
     "name": "stdout",
     "output_type": "stream",
     "text": [
      "{'t-shirt': 15, 'mug': 20, 'hat': 15, 'book': 50, 'keychain': 62}\n"
     ]
    }
   ],
   "source": [
    "#3.Ask the user to input the quantity of each product available in the inventory.\n",
    "#Use the product names from the products list as keys in the inventory dictionary and assign the respective quantities as values.\n",
    "for prod in products:\n",
    "    quantity=input(f\"Input the quantity for {prod}\")\n",
    "    inventory[prod]=int(quantity)\n",
    "\n",
    "print(inventory)"
   ]
  },
  {
   "cell_type": "code",
   "execution_count": 72,
   "id": "676e6cd1-a9e7-4e7e-adb8-ff04be4a6287",
   "metadata": {},
   "outputs": [
    {
     "name": "stdout",
     "output_type": "stream",
     "text": [
      "set()\n"
     ]
    },
    {
     "data": {
      "text/plain": [
       "set"
      ]
     },
     "execution_count": 72,
     "metadata": {},
     "output_type": "execute_result"
    }
   ],
   "source": [
    "#4.Create an empty set called customer_orders.\n",
    "customer_orders=set()\n",
    "print(customer_orders)\n",
    "type(customer_orders)"
   ]
  },
  {
   "cell_type": "code",
   "execution_count": 74,
   "id": "59b63e71-c816-4ca0-9e92-159c5bfe3896",
   "metadata": {},
   "outputs": [
    {
     "name": "stdout",
     "output_type": "stream",
     "text": [
      "Order three products from the list ['t-shirt', 'mug', 'hat', 'book', 'keychain']\n"
     ]
    },
    {
     "name": "stdin",
     "output_type": "stream",
     "text": [
      "Product #1 mug\n",
      "Product #2 hat\n",
      "Product #3 book\n"
     ]
    }
   ],
   "source": [
    "#5.Ask the user to input the name of three products that a customer wants to order \n",
    "#(from those in the products list, meaning three products out of \"t-shirt\", \"mug\", \"hat\", \"book\" or \"keychain\". \n",
    "#Add each product name to the customer_orders set.\n",
    "print(f\"Order three products from the list {products}\")\n",
    "i=1\n",
    "while i <=3:\n",
    "    order_item=input(f\"Product #{i}\")\n",
    "    if order_item in products:\n",
    "        customer_orders.add(order_item)\n",
    "        i+=1\n",
    "    else:\n",
    "        print(\"Select a product from the list!\")"
   ]
  },
  {
   "cell_type": "code",
   "execution_count": 76,
   "id": "e57092d0-dbd9-4ee8-b261-21ceaa0975ad",
   "metadata": {},
   "outputs": [
    {
     "name": "stdout",
     "output_type": "stream",
     "text": [
      "Customer Orders:{'hat', 'mug', 'book'}\n"
     ]
    }
   ],
   "source": [
    "#6.Print the products in the customer_orders set.\n",
    "print(f\"Customer Orders:{customer_orders}\")"
   ]
  },
  {
   "cell_type": "code",
   "execution_count": 92,
   "id": "cf72cea6-404f-457c-8886-c84cba0a745e",
   "metadata": {},
   "outputs": [
    {
     "name": "stdout",
     "output_type": "stream",
     "text": [
      "Total number of products in the customer_orders set: 3\n",
      "The percentage of products ordered is 1%\n",
      "Number of products in the customer_orders set: 3. Percentage of products ordered 1%\n"
     ]
    },
    {
     "data": {
      "text/plain": [
       "str"
      ]
     },
     "execution_count": 92,
     "metadata": {},
     "output_type": "execute_result"
    }
   ],
   "source": [
    "#7.Calculate the following order statistics:\n",
    "#Total Products Ordered: The total number of products in the customer_orders set.\n",
    "\n",
    "print(f\"Total number of products in the customer_orders set: {len(customer_orders)}\")\n",
    "\n",
    "#Percentage of Products Ordered: The percentage of products ordered compared to the total available products.\n",
    "sum=0\n",
    "for inv_item in inventory:\n",
    "    sum+=int(inventory[inv_item])\n",
    "\n",
    "percentage=int(len(customer_orders)/sum*100)\n",
    "print(f\"The percentage of products ordered is {int(percentage)}%\")\n",
    "\n",
    "#Store these statistics in a tuple called order_status.\n",
    "order_status=(f\"Number of products in the customer_orders set: {len(customer_orders)}. Percentage of products ordered {percentage}%\")\n",
    "print(order_status)\n",
    "type(order_status)"
   ]
  },
  {
   "cell_type": "code",
   "execution_count": 94,
   "id": "de24187d-2101-4560-a76f-f39ef6b64989",
   "metadata": {},
   "outputs": [
    {
     "name": "stdout",
     "output_type": "stream",
     "text": [
      "Order Statistics:\n",
      "Total Products Ordered: 3\n",
      "Percentage of Products Ordered: 1%\n"
     ]
    }
   ],
   "source": [
    "#8. Print the order statistics using the following format:\n",
    "#Order Statistics:\n",
    "print(\"Order Statistics:\")\n",
    "#Total Products Ordered: <total_products_ordered>\n",
    "print(f\"Total Products Ordered: {len(customer_orders)}\")\n",
    "#Percentage of Products Ordered: <percentage_ordered>% \n",
    "print(f\"Percentage of Products Ordered: {percentage}%\")"
   ]
  },
  {
   "cell_type": "code",
   "execution_count": 84,
   "id": "f0f788b4-3349-4c06-8275-9a9407c87678",
   "metadata": {},
   "outputs": [
    {
     "name": "stdout",
     "output_type": "stream",
     "text": [
      "{'t-shirt': 15, 'mug': 20, 'hat': 15, 'book': 50, 'keychain': 62}\n",
      "{'t-shirt': 14, 'mug': 19, 'hat': 14, 'book': 49, 'keychain': 61}\n"
     ]
    }
   ],
   "source": [
    "#9.Update the inventory by subtracting 1 from the quantity of each product. Modify the inventory dictionary accordingly.\n",
    "print(inventory)\n",
    "for item in inventory:\n",
    "    inventory[item] -= 1\n",
    "print(inventory)"
   ]
  },
  {
   "cell_type": "code",
   "execution_count": 90,
   "id": "8cffd24c-6be7-4cdd-8a04-62f2276753e0",
   "metadata": {},
   "outputs": [
    {
     "name": "stdout",
     "output_type": "stream",
     "text": [
      "t-shirt are 14\n",
      "mug are 19\n",
      "hat are 14\n",
      "book are 49\n",
      "keychain are 61\n"
     ]
    }
   ],
   "source": [
    "#10.Print the updated inventory, displaying the quantity of each product on separate lines.\n",
    "for keys, value in inventory.items():\n",
    "    print(f\"{keys} are {value}\")"
   ]
  },
  {
   "cell_type": "code",
   "execution_count": null,
   "id": "a589c94f-abf4-4dcd-a9a9-7064eed50519",
   "metadata": {},
   "outputs": [],
   "source": []
  }
 ],
 "metadata": {
  "kernelspec": {
   "display_name": "Python 3 (ipykernel)",
   "language": "python",
   "name": "python3"
  },
  "language_info": {
   "codemirror_mode": {
    "name": "ipython",
    "version": 3
   },
   "file_extension": ".py",
   "mimetype": "text/x-python",
   "name": "python",
   "nbconvert_exporter": "python",
   "pygments_lexer": "ipython3",
   "version": "3.11.7"
  }
 },
 "nbformat": 4,
 "nbformat_minor": 5
}
